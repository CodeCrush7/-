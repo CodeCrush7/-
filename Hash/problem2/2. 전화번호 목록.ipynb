{
 "cells": [
  {
   "cell_type": "markdown",
   "metadata": {},
   "source": [
    "## 여러분s... 저는... 고민하다가 찾아보고, 그거 보면서 공부했어요.....ㅠㅜ 이해한거 정리할게염ㅠㅠ\n",
    "## 찾아본거라서 당연하지만, 점수는 100점 나옴미다. (효율성 15.4점)\n"
   ]
  },
  {
   "cell_type": "markdown",
   "metadata": {},
   "source": [
    "def solution(phone_book):\n",
    "    phone_book.sort()\n",
    "    for i in range(len(phone_book)-1):\n",
    "        if phone_book[i] in phone_book[i+1] :\n",
    "            return False\n",
    "        return True\n",
    "    \n",
    "## sort 함수로 내림차순으로 정렬\n",
    "## (i+1)까지 돌아야 하니까 range는 phone_book의 길이보다 1 작게\n",
    "## i번째 번호가 (i+1)번째 함수에 포함되어 있으면 False를 반환\n",
    "##                                  있지 않으면 True 반환"
   ]
  }
 ],
 "metadata": {
  "kernelspec": {
   "display_name": "Python 3",
   "language": "python",
   "name": "python3"
  },
  "language_info": {
   "codemirror_mode": {
    "name": "ipython",
    "version": 3
   },
   "file_extension": ".py",
   "mimetype": "text/x-python",
   "name": "python",
   "nbconvert_exporter": "python",
   "pygments_lexer": "ipython3",
   "version": "3.6.4"
  }
 },
 "nbformat": 4,
 "nbformat_minor": 2
}
