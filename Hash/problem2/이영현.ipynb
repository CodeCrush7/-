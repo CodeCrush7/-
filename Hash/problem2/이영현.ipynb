{
 "cells": [
  {
   "cell_type": "code",
   "execution_count": 106,
   "metadata": {},
   "outputs": [],
   "source": [
    "a = [\"123\", \"456\", \"789\"]\n",
    "b = [\"12\", \"345\", \"3456789\"]"
   ]
  },
  {
   "cell_type": "code",
   "execution_count": 60,
   "metadata": {},
   "outputs": [
    {
     "data": {
      "text/plain": [
       "{0: '123', 1: '456', 2: '789'}"
      ]
     },
     "execution_count": 60,
     "metadata": {},
     "output_type": "execute_result"
    }
   ],
   "source": [
    "p = dict(zip(range(len(a)),a))\n",
    "p"
   ]
  },
  {
   "cell_type": "code",
   "execution_count": 62,
   "metadata": {},
   "outputs": [
    {
     "data": {
      "text/plain": [
       "False"
      ]
     },
     "execution_count": 62,
     "metadata": {},
     "output_type": "execute_result"
    }
   ],
   "source": [
    "p[0]==p[2][0:len(p[0])]"
   ]
  },
  {
   "cell_type": "code",
   "execution_count": 116,
   "metadata": {},
   "outputs": [],
   "source": [
    "#ver 1\n",
    "def solution(phone_book):\n",
    "    p = dict(zip(range(len(phone_book)), phone_book))\n",
    "    answer = True\n",
    "    for fk in p.keys():\n",
    "        for sk in p.keys():\n",
    "            if (p[fk]==p[sk][0:len(p[fk])])&(p[fk]!=p[sk]):\n",
    "                answer = False\n",
    "                break\n",
    "    return answer"
   ]
  },
  {
   "cell_type": "code",
   "execution_count": 117,
   "metadata": {},
   "outputs": [
    {
     "data": {
      "text/plain": [
       "False"
      ]
     },
     "execution_count": 117,
     "metadata": {},
     "output_type": "execute_result"
    }
   ],
   "source": [
    "solution(b)"
   ]
  },
  {
   "cell_type": "markdown",
   "metadata": {},
   "source": [
    "## 알고리즘\n",
    "1. 입력 리스트를 딕셔너리(해시)로 변경\n",
    "2. 딕셔너리는 키와 값으로 구성되는데, 이때 키 값을 기준으로 두 번 돈다(모든 원소들을 돌아야하므로)\n",
    "3. 만약 두 번째 키 값의 첫 번째 키 값의 길이만큼이 같고, 같은 값을 나타내는 게 아니라면 정답은 Fasle를 저장하고 반복문을 탈출한다\n",
    "\n",
    "## 효율성\n",
    "정확성 84.6 / 효율성 0\n",
    "\n",
    "for문이 중접되어 효율성 점수는 0점이다\n",
    "\n",
    "해당 코드를 for문을 하나로 줄여보겠다"
   ]
  },
  {
   "cell_type": "code",
   "execution_count": 114,
   "metadata": {},
   "outputs": [],
   "source": [
    "# ver 2\n",
    "def solution(phone_book):\n",
    "    p = dict(zip(range(len(phone_book)), phone_book))\n",
    "    answer = True\n",
    "    for fk in p.values():\n",
    "        for sk in p.values():\n",
    "            if sk.startswith(fk) &(sk!=fk):\n",
    "                answer = False\n",
    "                break\n",
    "    return answer"
   ]
  },
  {
   "cell_type": "code",
   "execution_count": 102,
   "metadata": {},
   "outputs": [],
   "source": [
    "#정답 코드\n",
    "def solution(phoneBook):\n",
    "    phoneBook = sorted(phoneBook)\n",
    "\n",
    "    for p1, p2 in zip(phoneBook, phoneBook[1:]):\n",
    "        if p2.startswith(p1):\n",
    "            return False\n",
    "    return True"
   ]
  },
  {
   "cell_type": "code",
   "execution_count": 115,
   "metadata": {
    "scrolled": true
   },
   "outputs": [
    {
     "data": {
      "text/plain": [
       "False"
      ]
     },
     "execution_count": 115,
     "metadata": {},
     "output_type": "execute_result"
    }
   ],
   "source": [
    "solution(b)"
   ]
  },
  {
   "cell_type": "markdown",
   "metadata": {},
   "source": [
    "## 정답코드 \n",
    "1. for문에 zip으로 매개변수를 2개 지정해주면 둘이 같이 증가\n",
    "2. stratwith"
   ]
  },
  {
   "cell_type": "code",
   "execution_count": null,
   "metadata": {},
   "outputs": [],
   "source": []
  }
 ],
 "metadata": {
  "kernelspec": {
   "display_name": "Python 3",
   "language": "python",
   "name": "python3"
  },
  "language_info": {
   "codemirror_mode": {
    "name": "ipython",
    "version": 3
   },
   "file_extension": ".py",
   "mimetype": "text/x-python",
   "name": "python",
   "nbconvert_exporter": "python",
   "pygments_lexer": "ipython3",
   "version": "3.7.4"
  }
 },
 "nbformat": 4,
 "nbformat_minor": 2
}
