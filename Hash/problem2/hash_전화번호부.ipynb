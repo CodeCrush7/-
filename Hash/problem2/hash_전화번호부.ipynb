{
 "cells": [
  {
   "cell_type": "code",
   "execution_count": null,
   "metadata": {},
   "outputs": [],
   "source": [
    "def solution(phone_book):\n",
    "    phone_book.sort(key=len)#번호를 길이 순서대로 정렬\n",
    "    length=len(phone_book[0])#맨 앞 번호의 길이를 저장\n",
    "    answer=True #기본을 True로 설정\n",
    "    for i in range(1,len(phone_book)):\n",
    "        if phone_book[i][0:length]==phone_book[0]:#전화번호부의 번호들을 맨 앞 번호의 길이만큼 슬라이싱 해서 비교\n",
    "            answer=False #같으면 answer바꿔줌\n",
    "            break #반복문 탈출\n",
    "    return answer"
   ]
  }
 ],
 "metadata": {
  "kernelspec": {
   "display_name": "Python 3",
   "language": "python",
   "name": "python3"
  },
  "language_info": {
   "codemirror_mode": {
    "name": "ipython",
    "version": 3
   },
   "file_extension": ".py",
   "mimetype": "text/x-python",
   "name": "python",
   "nbconvert_exporter": "python",
   "pygments_lexer": "ipython3",
   "version": "3.6.8"
  }
 },
 "nbformat": 4,
 "nbformat_minor": 2
}
