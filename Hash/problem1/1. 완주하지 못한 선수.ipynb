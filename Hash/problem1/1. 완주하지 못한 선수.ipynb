{
 "cells": [
  {
   "cell_type": "code",
   "execution_count": null,
   "metadata": {},
   "outputs": [],
   "source": [
    "## 여러분s... 저는... 고민하다가 찾아보고, 그거 보면서 공부했어요.....ㅠㅜ 이해한거 정리할게염ㅠㅠ\n",
    "## 찾아본거라서 당연하지만, 점수는 100점 나옴미다. (효율성은 각각 50점, 15.4점)"
   ]
  },
  {
   "cell_type": "code",
   "execution_count": null,
   "metadata": {},
   "outputs": [],
   "source": [
    "def solution(participant, completion):\n",
    "    participant.sort()\n",
    "    completion.sort()\n",
    "    \n",
    "    for i, j in zip(participant, completion):\n",
    "        if i != j :\n",
    "            return i\n",
    "        \n",
    "    return participant[-1]\n",
    "\n",
    "\n",
    "## 먼저 sort함수로 참가자랑 완주한 선수의 이름을 정렬.\n",
    "## 'zip'함수는 두 자료를 순서대로 짝지어주는 함수..... 라고 함.\n",
    "## 짝을 지어주는 과정에서 서로 다른것과, 중복된것은 맨 뒤에 저장이 됨.\n",
    "## 짝 지어진 이름을 비교 >>\n",
    "##     짝지어진 자료에서 서로 다른 이름이\n",
    "##                                 있으면 해당 쌍에서 참가자의 이름을 반환(완주하지 못한 선수)\n",
    "##                                 없으면 순서대로 정렬했을 때, 참가자 명단과 완주한 선수의 명단은 하나 차이남. 따라서 참가자의 맨 뒤의 값을 반환. "
   ]
  }
 ],
 "metadata": {
  "kernelspec": {
   "display_name": "Python 3",
   "language": "python",
   "name": "python3"
  },
  "language_info": {
   "codemirror_mode": {
    "name": "ipython",
    "version": 3
   },
   "file_extension": ".py",
   "mimetype": "text/x-python",
   "name": "python",
   "nbconvert_exporter": "python",
   "pygments_lexer": "ipython3",
   "version": "3.6.4"
  }
 },
 "nbformat": 4,
 "nbformat_minor": 2
}
