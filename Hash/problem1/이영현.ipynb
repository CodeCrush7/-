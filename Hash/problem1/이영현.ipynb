{
 "cells": [
  {
   "cell_type": "code",
   "execution_count": 132,
   "metadata": {},
   "outputs": [],
   "source": [
    "a = [\"marina\", \"josipa\", \"nikola\", \"vinko\", \"filipa\"]\n",
    "b = [\"josipa\", \"filipa\", \"marina\", \"nikola\"]"
   ]
  },
  {
   "cell_type": "code",
   "execution_count": 31,
   "metadata": {},
   "outputs": [],
   "source": [
    "#ver 1\n",
    "def solution(participant, completion):\n",
    "    answer = ''\n",
    "    answer = participant\n",
    "    for i in range(len(completion)):\n",
    "        if completion[i] in participant:\n",
    "            answer.remove(completion[i])\n",
    "    answer = answer[0]\n",
    "    return answer"
   ]
  },
  {
   "cell_type": "markdown",
   "metadata": {},
   "source": [
    "## 알고리즘\n",
    "1. 참가자와 완주자를 매개변수로 받아 정답 리스트에 참가자 전원 저장\n",
    "2. 완주자의 수 만큼 for문 돌기\n",
    "3. 해당 완주자가 참가자 리스트내에 속하면 정답 리스트에서 해당 완주자 제거\n",
    "4. 최종 남은 정답 리스트 내의 참가자 수는 1명 뿐이므로 0번째 리스트 출력 - 문자열로 출력해야 하므로\n",
    "\n",
    "## 점수\n",
    "- 정확성 50/효율성 0"
   ]
  },
  {
   "cell_type": "code",
   "execution_count": 135,
   "metadata": {},
   "outputs": [],
   "source": [
    "#ver 2\n",
    "def solution(participant, completion):\n",
    "    answer = ''\n",
    "    p = {}\n",
    "    for pt in participant:\n",
    "        if pt in p:\n",
    "            p[pt]+=1\n",
    "        else:\n",
    "            p[pt]=1\n",
    "    c = {}\n",
    "    for cp in completion:\n",
    "        if cp in c:\n",
    "            c[cp]+=1\n",
    "        else: \n",
    "            c[cp]=1\n",
    "    \n",
    "    a = {}\n",
    "    for key, value in p.items():\n",
    "        if (key not in c.keys()):\n",
    "            a[key]=key\n",
    "            return key\n",
    "        elif (p[key]!=c[key]):\n",
    "            a[key]=key\n",
    "            return key\n",
    "    \n",
    "    answer = list(a.keys())\n",
    "    return answer"
   ]
  },
  {
   "cell_type": "markdown",
   "metadata": {},
   "source": [
    "## 알고리즘\n",
    "1. 참가자와 완주자를 매개변수로 받음\n",
    "2. 참가자를 딕셔너리 형태로 저장, 이름을 key로, count하여 value로\n",
    "3. 완주자도 똑같은 형태로 딕셔너리 저장\n",
    "4. 참가자의 key와 value로 for문을 돌면서 조건 두개 확인\n",
    "5. 참가자의 해당 key가 완주자의 key에 속하지 않으면 그 key를 반환(이름)\n",
    "6. 동명이인이 있을 경우 key는 존재하지만 value값이 다름. 그 vlaue값이 다를 경우 해당 key(이름)를 반환\n",
    "\n",
    "## 점수\n",
    "- 정확성 50/효율성 50"
   ]
  },
  {
   "cell_type": "code",
   "execution_count": 147,
   "metadata": {},
   "outputs": [],
   "source": [
    "#ver 3\n",
    "def solution(participant, completion):\n",
    "    answer = ''\n",
    "    ans = {'p':participant, 'c': completion}\n",
    "    \n",
    "    answer = list(set(ans['p'])-set(ans['c']))\n",
    "    \n",
    "    answer = list(answer)[0]\n",
    "    return answer"
   ]
  },
  {
   "cell_type": "code",
   "execution_count": 148,
   "metadata": {},
   "outputs": [
    {
     "data": {
      "text/plain": [
       "'vinko'"
      ]
     },
     "execution_count": 148,
     "metadata": {},
     "output_type": "execute_result"
    }
   ],
   "source": [
    "solution(a,b)"
   ]
  },
  {
   "cell_type": "markdown",
   "metadata": {},
   "source": [
    "## 알고리즘\n",
    "1. 참가자와 완주자를 매개변수로 받음\n",
    "2. 정답 딕셔너리에 p라는 키로 참가자 리스트를 값으로, c라는 키로 완주자 리스트를 값으로 저장\n",
    "3. 정답 딕셔너리의 p키의 값들을 집합으로 변환해 차집합 수행\n",
    "\n",
    "## 점수\n",
    "- 산출 불가"
   ]
  },
  {
   "cell_type": "code",
   "execution_count": 108,
   "metadata": {},
   "outputs": [],
   "source": [
    "#ver 4\n",
    "def solution(participant, completion):\n",
    "    answer = ''\n",
    "    participant.sort()\n",
    "    completion.sort()\n",
    "    a = dict(zip(participant, completion))\n",
    "    for i,j in a.items():\n",
    "        if i!=j:\n",
    "            return i\n",
    "    return participant[-1]\n"
   ]
  },
  {
   "cell_type": "code",
   "execution_count": 109,
   "metadata": {},
   "outputs": [
    {
     "data": {
      "text/plain": [
       "'leo'"
      ]
     },
     "execution_count": 109,
     "metadata": {},
     "output_type": "execute_result"
    }
   ],
   "source": [
    "solution(a,b)"
   ]
  },
  {
   "cell_type": "markdown",
   "metadata": {},
   "source": [
    "## 알고리즘\n",
    "1. 참가자와 완주자를 매개변수로 받음\n",
    "2. 참가자와 완주자를 이름 순으로 정렬\n",
    "3. 참가자와 완주자를 zip 함수를 통해 붙이고 딕셔너리형태로 저장(같은 수만)\n",
    "4. 해당 딕셔너리의 참가자와 완주자를 돌며 둘이 같지 않을 때 해당 key값을 반환\n",
    "5. 해당 딕셔너리의 순서가 다 같을 때는 마지막 참가자가 완주를 하지 못했음\n",
    "\n",
    "## 점수\n",
    "- 정확성 50/효율성 50"
   ]
  },
  {
   "cell_type": "code",
   "execution_count": null,
   "metadata": {},
   "outputs": [],
   "source": []
  }
 ],
 "metadata": {
  "kernelspec": {
   "display_name": "Python 3",
   "language": "python",
   "name": "python3"
  },
  "language_info": {
   "codemirror_mode": {
    "name": "ipython",
    "version": 3
   },
   "file_extension": ".py",
   "mimetype": "text/x-python",
   "name": "python",
   "nbconvert_exporter": "python",
   "pygments_lexer": "ipython3",
   "version": "3.7.4"
  }
 },
 "nbformat": 4,
 "nbformat_minor": 2
}
