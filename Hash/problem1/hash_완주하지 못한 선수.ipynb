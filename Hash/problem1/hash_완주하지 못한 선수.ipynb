{
 "cells": [
  {
   "cell_type": "code",
   "execution_count": null,
   "metadata": {},
   "outputs": [],
   "source": [
    "def solution(participant, completion):\n",
    "    participant.sort() #참가자 순서대로 정렬\n",
    "    completion.sort() #완주자 순서대로 정렬\n",
    "    for i,j in zip(participant,completion) :\n",
    "        if i != j :#완주자와 참가자를 비교했을 때 다르면\n",
    "            return(i) #그걸 반환\n",
    "    return participant[-1] #모두 같았다면 맨 마지막 하나 남은 참가자 반환"
   ]
  }
 ],
 "metadata": {
  "kernelspec": {
   "display_name": "Python 3",
   "language": "python",
   "name": "python3"
  },
  "language_info": {
   "codemirror_mode": {
    "name": "ipython",
    "version": 3
   },
   "file_extension": ".py",
   "mimetype": "text/x-python",
   "name": "python",
   "nbconvert_exporter": "python",
   "pygments_lexer": "ipython3",
   "version": "3.6.8"
  }
 },
 "nbformat": 4,
 "nbformat_minor": 2
}
