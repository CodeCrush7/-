{
 "cells": [
  {
   "cell_type": "code",
   "execution_count": 38,
   "metadata": {},
   "outputs": [],
   "source": [
    "def solution(clothes):\n",
    "    import numpy as np\n",
    "    clothes = np.asarray(clothes) #1 array 변환\n",
    "    kinds = list(clothes[:,1]) #2 list 작성\n",
    "    kinds.sort() #3 정렬\n",
    "    dic = {} #4 dic 생성\n",
    "    \n",
    "    for i in range(len(kinds)):\n",
    "        if kinds[i] not in dic:\n",
    "            dic[kinds[i]] = kinds.count(kinds[i])\n",
    "    \n",
    "    answer = 1 #5 조합 구하기\n",
    "    for x in dic.values():\n",
    "        answer = answer*(x+1)\n",
    "        \n",
    "    return answer-1 #6 최종값"
   ]
  },
  {
   "cell_type": "markdown",
   "metadata": {},
   "source": [
    "1. array로 변환\n",
    "    - 중첩된 리스트에서 인덱싱을 설정하는게 어려워서 array로 변형함\n",
    "    - 추후 **효율성 문제**가 발생할 것 같다\n",
    "2. clothes에서 옷의 종류만 추출하여 list 작성\n",
    "3. 정렬\n",
    "    > for문 돌리기 전에 sort를 하면 효율성이 높아진다고 주워들음(1번 문제 참고)\n",
    "4. 빈 dictionary 작성\n",
    "    - dic = {'kinds' : count}\n",
    "5. answer을 1로 설정(곱의 항등원)\n",
    "    - **수식을 설정하는 부분이 가장 어려웠다.**\n",
    "    > A+B+C+D+AB+AC+AD+BC+BD+CD+ABC+ABD+ACD+BCD+ABCD = (A+1)(B+1)(C+1)(D+1)-1\n",
    "    **결국 수학이 안되면 못 푸는 문제...ㅜㅜ**"
   ]
  }
 ],
 "metadata": {
  "kernelspec": {
   "display_name": "Python 3",
   "language": "python",
   "name": "python3"
  },
  "language_info": {
   "codemirror_mode": {
    "name": "ipython",
    "version": 3
   },
   "file_extension": ".py",
   "mimetype": "text/x-python",
   "name": "python",
   "nbconvert_exporter": "python",
   "pygments_lexer": "ipython3",
   "version": "3.7.3"
  }
 },
 "nbformat": 4,
 "nbformat_minor": 2
}
