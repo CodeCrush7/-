{
 "cells": [
  {
   "cell_type": "markdown",
   "metadata": {},
   "source": [
    "## 문제 설명\n",
    "\n",
    "스파이들은 매일 다른 옷을 조합하여 입어 자신을 위장합니다.\n",
    "\n",
    "예를 들어 스파이가 가진 옷이 아래와 같고 오늘 스파이가 동그란 안경, 긴 코트, 파란색 티셔츠를 입었다면 다음날은 청바지를 추가로 입거나 동그란 안경 대신 검정 선글라스를 착용하거나 해야 합니다.\n",
    "\n",
    "종류\t이름\n",
    "얼굴\t동그란 안경, 검정 선글라스\n",
    "상의\t파란색 티셔츠\n",
    "하의\t청바지\n",
    "겉옷\t긴 코트\n",
    "\n",
    "스파이가 가진 의상들이 담긴 2차원 배열 clothes가 주어질 때 서로 다른 옷의 조합의 수를 return 하도록 solution 함수를 작성해주세요.\n",
    "\n",
    "### 제한사항\n",
    "* clothes의 각 행은 [의상의 이름, 의상의 종류]로 이루어져 있습니다.\n",
    "* 스파이가 가진 의상의 수는 1개 이상 30개 이하입니다.\n",
    "* 같은 이름을 가진 의상은 존재하지 않습니다.\n",
    "* clothes의 모든 원소는 문자열로 이루어져 있습니다.\n",
    "* 모든 문자열의 길이는 1 이상 20 이하인 자연수이고 알파벳 소문자 또는 '_' 로만 이루어져 있습니다.\n",
    "* 스파이는 하루에 최소 한 개의 의상은 입습니다."
   ]
  },
  {
   "cell_type": "code",
   "execution_count": 80,
   "metadata": {},
   "outputs": [],
   "source": [
    "c=[[\"yellow_hat\", \"headgear\"], [\"blue_sunglasses\", \"eyewear\"], [\"green_turban\", \"headgear\"]]"
   ]
  },
  {
   "cell_type": "code",
   "execution_count": 67,
   "metadata": {},
   "outputs": [
    {
     "data": {
      "text/plain": [
       "'yellow_hat'"
      ]
     },
     "execution_count": 67,
     "metadata": {},
     "output_type": "execute_result"
    }
   ],
   "source": [
    "c[0][0]"
   ]
  },
  {
   "cell_type": "code",
   "execution_count": 81,
   "metadata": {},
   "outputs": [],
   "source": [
    "# ver 1 \n",
    "def solution(clothes):\n",
    "    c = dict(clothes)\n",
    "    #c = dict(zip(clothes[:,1],clothes[:,0]))\n",
    "    l = {}\n",
    "    for key in c.values():\n",
    "        if key in l:\n",
    "            l[key]+=1\n",
    "        else:\n",
    "            l[key]=1\n",
    "    \n",
    "    def comb(dictionary):\n",
    "        a = 1\n",
    "        for k in dictionary.keys():\n",
    "            if len(dictionary.keys())==1:\n",
    "                a = 0\n",
    "            else:\n",
    "                a= a * dictionary[k]\n",
    "        return a\n",
    "        \n",
    "    answer = sum(l.values())+comb(l)\n",
    "    return answer"
   ]
  },
  {
   "cell_type": "code",
   "execution_count": 82,
   "metadata": {},
   "outputs": [
    {
     "data": {
      "text/plain": [
       "5"
      ]
     },
     "execution_count": 82,
     "metadata": {},
     "output_type": "execute_result"
    }
   ],
   "source": [
    "solution(c)"
   ]
  },
  {
   "cell_type": "code",
   "execution_count": 50,
   "metadata": {},
   "outputs": [],
   "source": [
    "import itertools as iter"
   ]
  },
  {
   "cell_type": "code",
   "execution_count": 119,
   "metadata": {},
   "outputs": [],
   "source": [
    "# ver 2\n",
    "def solution(clothes):\n",
    "    c = dict(clothes)\n",
    "    l = {}\n",
    "    for key in c.values():\n",
    "        if key in l:\n",
    "            l[key]+=1\n",
    "        else:\n",
    "            l[key]=1\n",
    "    \n",
    "    def nCr(n,r):\n",
    "        if n<r:\n",
    "            return 0\n",
    "        numerator = 1\n",
    "        denominator = 1\n",
    "        r = min(n-r, r) #조합의 대칭성을 이용하여 더 적은 수의 연산을 하기 위해서입니다.\n",
    "        for i in range(1, r+1):\n",
    "            denominator *= i\n",
    "            numerator *= n+1-i\n",
    "        return numerator/denominator\n",
    "    \n",
    "    def comb(dictionary):\n",
    "        a = 1\n",
    "        for k in dictionary.keys():\n",
    "            a= a * dictionary[k]\n",
    "        return a\n",
    "    \n",
    "    i=0\n",
    "    a=0\n",
    "    while(i<len(l.keys())):\n",
    "        if i==0:\n",
    "            a+=sum(l.values())\n",
    "        elif i==len(l.keys())-1:\n",
    "            a+=comb(l)\n",
    "        else:\n",
    "            for key in l.keys():\n",
    "                if l[key]>1:\n",
    "                    a += (nCr(len(l.keys())+1, i+1)*l[key])-(nCr(len(l.keys()), i+2)*(l[key]-1))\n",
    "        i+=1\n",
    "        \n",
    "    answer = a\n",
    "    return answer"
   ]
  },
  {
   "cell_type": "code",
   "execution_count": 120,
   "metadata": {},
   "outputs": [
    {
     "data": {
      "text/plain": [
       "5"
      ]
     },
     "execution_count": 120,
     "metadata": {},
     "output_type": "execute_result"
    }
   ],
   "source": [
    "solution(c)"
   ]
  },
  {
   "cell_type": "markdown",
   "metadata": {},
   "source": [
    "## 알고리즘\n",
    "1. 입력 리스트를 딕셔너리 형태로 전환한다.\n",
    "2. 옷의 종류에 따라 카운트를 매긴 새로운 딕셔너리를 생성한다.\n",
    "3. 조합을 수행하는 함수를 생성한다.\n",
    "4. 해당 딕셔너리의 value들의 곱을 수행하는 함수를 생성한다.\n",
    "5. 옷의 종류만큼 while문을 돈다.\n",
    "6. 만약 i가 0이라면(=첫번째 반복문 수행=조합을 1개씩 생성) 갖고있는 옷의 수만큼 더한 값을 a에 저장\n",
    "7. 만약 i가 키 값의 종류만큼이라면(=마지막 반복분 수행 조건=모든 옷을 걸친다는 조합) 갖고 있는 옷의 개수들 모두 곱합.\n",
    "8. i가 그 외의 값이라면(2개씩 짝짓거나 3개씩 짝 짓거나 ...) 생성한 로직 수행\n",
    "\n",
    "### 내가 생각한 로직\n",
    "\n",
    "|종류|이름|\n",
    "|------|---|\n",
    "|얼굴|동그란 안경, 검정 선글라스|\n",
    "|상의|파란색 티셔츠|\n",
    "|하의|청바지|\n",
    "|겉옷|긴 코트|\n",
    "\n",
    "1개씩-> 5개\n",
    "\n",
    "2개씩-> 4C2 X 2 - 3C2 X 1(2-1)\n",
    "\n",
    "3개씩-> 4C3 X 2 - 3C3 X 1\n",
    "\n",
    "4개씩 -> 1 X 1 X 1 X 2\n",
    "\n",
    "## 점수\n",
    "정확도 28.6 / 100"
   ]
  },
  {
   "cell_type": "code",
   "execution_count": null,
   "metadata": {},
   "outputs": [],
   "source": []
  }
 ],
 "metadata": {
  "kernelspec": {
   "display_name": "Python 3",
   "language": "python",
   "name": "python3"
  },
  "language_info": {
   "codemirror_mode": {
    "name": "ipython",
    "version": 3
   },
   "file_extension": ".py",
   "mimetype": "text/x-python",
   "name": "python",
   "nbconvert_exporter": "python",
   "pygments_lexer": "ipython3",
   "version": "3.7.4"
  }
 },
 "nbformat": 4,
 "nbformat_minor": 2
}
